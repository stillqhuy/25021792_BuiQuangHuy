{
  "nbformat": 4,
  "nbformat_minor": 0,
  "metadata": {
    "colab": {
      "provenance": []
    },
    "kernelspec": {
      "name": "python3",
      "display_name": "Python 3"
    },
    "language_info": {
      "name": "python"
    }
  },
  "cells": [
    {
      "cell_type": "code",
      "execution_count": 1,
      "metadata": {
        "colab": {
          "base_uri": "https://localhost:8080/"
        },
        "id": "aQmz0N95jU5y",
        "outputId": "a5cf28da-204c-48a7-ad56-d3fc64a43757"
      },
      "outputs": [
        {
          "output_type": "stream",
          "name": "stdout",
          "text": [
            "3\n",
            "4\n",
            "a= 4\n",
            "b= 3\n"
          ]
        }
      ],
      "source": [
        "#W3A2\n",
        "a=int(input())\n",
        "b=int(input())\n",
        "a = a ^ b\n",
        "b = a ^ b\n",
        "a = a ^ b\n",
        "print(\"a=\",a)\n",
        "print(\"b=\",b)"
      ]
    },
    {
      "cell_type": "code",
      "source": [
        "#W3A3\n",
        "n = int(input())\n",
        "if n > 0 and (n & (n - 1)) == 0:\n",
        "    print(n, \"la luy thua cua 2\")\n",
        "else:\n",
        "    print(n, \"khong la luy thua cua 2\")\n",
        "\n"
      ],
      "metadata": {
        "colab": {
          "base_uri": "https://localhost:8080/"
        },
        "id": "n6z1fyzhkjvT",
        "outputId": "a5b9b128-5832-4914-ad73-84cf7684744c"
      },
      "execution_count": 3,
      "outputs": [
        {
          "output_type": "stream",
          "name": "stdout",
          "text": [
            "8\n",
            "8 la luy thua cua 2\n"
          ]
        }
      ]
    },
    {
      "cell_type": "code",
      "source": [
        "#W3A4\n",
        "m,n=map(float,input().split())\n",
        "from math import floor\n",
        "x=m+n\n",
        "print(floor(x))\n"
      ],
      "metadata": {
        "colab": {
          "base_uri": "https://localhost:8080/"
        },
        "id": "ugMO9dKYmWVF",
        "outputId": "fec6a6d6-fca8-4a53-9135-566fc0eb0432"
      },
      "execution_count": 7,
      "outputs": [
        {
          "output_type": "stream",
          "name": "stdout",
          "text": [
            "5.1 6\n",
            "11\n"
          ]
        }
      ]
    },
    {
      "cell_type": "code",
      "source": [
        "#W3A5\n",
        "m,n=map(float,input().split())\n",
        "from math import ceil\n",
        "x=m+n\n",
        "print(ceil(x))\n",
        "\n"
      ],
      "metadata": {
        "colab": {
          "base_uri": "https://localhost:8080/"
        },
        "outputId": "831c324a-9a80-49ef-cf9b-26215eb0027e",
        "id": "Law0xtQNnTY-"
      },
      "execution_count": 9,
      "outputs": [
        {
          "output_type": "stream",
          "name": "stdout",
          "text": [
            "5.1 6\n",
            "12\n"
          ]
        }
      ]
    },
    {
      "cell_type": "code",
      "source": [
        "#W3A6\n",
        "n=int(input())\n",
        "if n%2==0:\n",
        "  print(\"even\")\n",
        "else:\n",
        "  print(\"odd\")"
      ],
      "metadata": {
        "colab": {
          "base_uri": "https://localhost:8080/"
        },
        "id": "GPHHq-7InkCa",
        "outputId": "3b2b5acd-0877-4484-8439-fb9a1cc3497e"
      },
      "execution_count": 10,
      "outputs": [
        {
          "output_type": "stream",
          "name": "stdout",
          "text": [
            "20\n",
            "even\n"
          ]
        }
      ]
    },
    {
      "cell_type": "code",
      "source": [
        "#W3A7\n",
        "a,b=map(int,input().split())\n",
        "if a<0 and b<0:\n",
        "  print(\"yes\")\n",
        "else:\n",
        "  print(\"no\")"
      ],
      "metadata": {
        "colab": {
          "base_uri": "https://localhost:8080/"
        },
        "id": "dAKJoXGznvDZ",
        "outputId": "86be87be-7841-46d3-8d0c-547f37714ede"
      },
      "execution_count": 11,
      "outputs": [
        {
          "output_type": "stream",
          "name": "stdout",
          "text": [
            "-3 -9\n",
            "yes\n"
          ]
        }
      ]
    },
    {
      "cell_type": "code",
      "source": [
        "#W3A8\n",
        "a,b=map(str,input().split())\n",
        "if len(a)>len(b):\n",
        "  print(\"true\")\n",
        "else:\n",
        "  print(\"false\")"
      ],
      "metadata": {
        "colab": {
          "base_uri": "https://localhost:8080/"
        },
        "id": "kDXBXnCPoCQC",
        "outputId": "d2d54f14-073b-4404-c7f8-36cbdd8c4f25"
      },
      "execution_count": 12,
      "outputs": [
        {
          "output_type": "stream",
          "name": "stdout",
          "text": [
            "huybui huy\n",
            "true\n"
          ]
        }
      ]
    },
    {
      "cell_type": "code",
      "source": [
        "#W3A9\n",
        "a,b,c=map(int,input(\"nhap a,b,c \").split())\n",
        "if a+b<=c:\n",
        "    print(\"NO\")\n",
        "elif a+c<=b:\n",
        "    print(\"NO\")\n",
        "elif b+c<=a:\n",
        "    print(\"NO\")\n",
        "else:\n",
        "    print(\"YES\")"
      ],
      "metadata": {
        "colab": {
          "base_uri": "https://localhost:8080/"
        },
        "id": "TYzwVDyKoWOD",
        "outputId": "fcb9a023-762b-4305-9da8-9f3d59b815a1"
      },
      "execution_count": 14,
      "outputs": [
        {
          "output_type": "stream",
          "name": "stdout",
          "text": [
            "nhap a,b,c 3 4 5\n",
            "YES\n"
          ]
        }
      ]
    },
    {
      "cell_type": "code",
      "source": [
        "#W3A16\n",
        "#lam tron len\n",
        "x=float(input())\n",
        "lenn=0\n",
        "xuong=0\n",
        "tron=0\n",
        "if x==int(x):\n",
        "  lenn=int(x)\n",
        "elif x>0:\n",
        "  lenn=int(x)+1\n",
        "else:\n",
        "  lenn=int(x)\n",
        "print(lenn)\n",
        "#lam tron xuong\n",
        "if x>=0:\n",
        "  xuong=int(x)\n",
        "\n",
        "else:\n",
        "    if x == int(x):\n",
        "        xuong = int(x)\n",
        "    else:\n",
        "        xuong = int(x) - 1\n",
        "\n",
        "print(xuong)\n",
        "#lam tron den so gan nhat\n",
        "if x-int(x)>=0.5:\n",
        "  tron=int(x)+1\n",
        "else:\n",
        "  tron=int(x)\n",
        "print(tron)\n"
      ],
      "metadata": {
        "colab": {
          "base_uri": "https://localhost:8080/"
        },
        "id": "o_sflSNpolgq",
        "outputId": "beb56911-0a6f-4968-fafc-751342793615"
      },
      "execution_count": 24,
      "outputs": [
        {
          "output_type": "stream",
          "name": "stdout",
          "text": [
            "3.5\n",
            "4\n",
            "3\n",
            "4\n"
          ]
        }
      ]
    },
    {
      "cell_type": "code",
      "source": [
        "#W3A17\n",
        "a,b,c,d=map(int,input().split())\n",
        "if b/a==c/b==d/c:\n",
        "  print(\"cap so nhan\")\n",
        "else:\n",
        "  print(\"khong la cap so nhan\")"
      ],
      "metadata": {
        "colab": {
          "base_uri": "https://localhost:8080/"
        },
        "id": "dIBCF62wt8Qu",
        "outputId": "c1a7285f-1bc3-44fc-837c-533ad493fa88"
      },
      "execution_count": 25,
      "outputs": [
        {
          "output_type": "stream",
          "name": "stdout",
          "text": [
            "2 4 8 16\n",
            "cap so nhan\n"
          ]
        }
      ]
    },
    {
      "cell_type": "code",
      "source": [
        "#W3A10\n",
        "a,b,c,d= map(int,input('nhap 4 so').split())\n",
        "if a<b:\n",
        "    a=b\n",
        "if a<c:\n",
        "    a=c\n",
        "if a<d:\n",
        "    a=d\n",
        "print(a)"
      ],
      "metadata": {
        "colab": {
          "base_uri": "https://localhost:8080/"
        },
        "id": "sd3kkPlpueNu",
        "outputId": "ab4eefd8-ef99-43ef-9667-4120ea9e70d6"
      },
      "execution_count": 26,
      "outputs": [
        {
          "output_type": "stream",
          "name": "stdout",
          "text": [
            "nhap 4 so1 2 3 4\n",
            "4\n"
          ]
        }
      ]
    },
    {
      "cell_type": "code",
      "source": [
        "#W3A11\n",
        "a,b,c=map(int,input(\"nhap a,b,c\").split())\n",
        "if a+b<=c:\n",
        "    print(\"khong phai tam giac\")\n",
        "elif a+c<=b:\n",
        "    print(\"khong phai tam giac\")\n",
        "elif b+c<=a:\n",
        "    print(\"khong phai tam giac\")\n",
        "else:\n",
        "    if a==b==c:\n",
        "        print(\"tam giac deu\")\n",
        "    elif a==b:\n",
        "        print(\"tan giac can\")\n",
        "    elif b==c:\n",
        "        print(\"tam giac can\")\n",
        "    elif a==c:\n",
        "        print(\"tam giac can\")\n",
        "    else:\n",
        "        print(\"tam giac thuong\")"
      ],
      "metadata": {
        "colab": {
          "base_uri": "https://localhost:8080/"
        },
        "id": "a1rJzzR4uzF1",
        "outputId": "83f59b0b-52b8-4f24-e68b-ccdf9a60b073"
      },
      "execution_count": 29,
      "outputs": [
        {
          "output_type": "stream",
          "name": "stdout",
          "text": [
            "nhap a,b,c3 3 3\n",
            "tam giac deu\n"
          ]
        }
      ]
    },
    {
      "cell_type": "code",
      "source": [
        "#W3A12\n",
        "n=int(input('nhap 1 nam'))\n",
        "if (n%4==0 and n%100 !=0) or n%400==0:\n",
        "    print('Yes')\n",
        "else:\n",
        "    print('No')"
      ],
      "metadata": {
        "colab": {
          "base_uri": "https://localhost:8080/"
        },
        "id": "TvaULXZmvK6-",
        "outputId": "abce8308-e7e0-4a8a-a20c-82c24591cfcf"
      },
      "execution_count": 30,
      "outputs": [
        {
          "output_type": "stream",
          "name": "stdout",
          "text": [
            "nhap 1 nam2019\n",
            "No\n"
          ]
        }
      ]
    },
    {
      "cell_type": "code",
      "source": [
        "#W3A14\n",
        "a,b=map(int,input(\"nhap a va b\").split())\n",
        "if a==0:\n",
        "    if b==0:\n",
        "        print(\"vo so nghiem\")\n",
        "    else:\n",
        "        print(\"vo nghiem\")\n",
        "else:\n",
        "    x=-b/a\n",
        "    print(f\"{x:.2f}\")\n"
      ],
      "metadata": {
        "colab": {
          "base_uri": "https://localhost:8080/"
        },
        "id": "s_80VxZrvVBe",
        "outputId": "95178384-c833-4526-9fe7-4cdbfa691b71"
      },
      "execution_count": 31,
      "outputs": [
        {
          "output_type": "stream",
          "name": "stdout",
          "text": [
            "nhap a va b3 9\n",
            "-3.00\n"
          ]
        }
      ]
    },
    {
      "cell_type": "code",
      "source": [
        "#W3A15\n",
        "n= float(input(\"nhap diem tb\"))\n",
        "if n>=8:\n",
        "    print('Gioi')\n",
        "elif n>=6.5:\n",
        "    print(\"Kha\")\n",
        "elif n>=5.0:\n",
        "    print(\"trung binh\")\n",
        "else:\n",
        "    print(\"yeu\")"
      ],
      "metadata": {
        "colab": {
          "base_uri": "https://localhost:8080/"
        },
        "id": "Ll3FyM-Uvmhw",
        "outputId": "9e95c883-ec96-40f6-efa8-c0699f1353e9"
      },
      "execution_count": 33,
      "outputs": [
        {
          "output_type": "stream",
          "name": "stdout",
          "text": [
            "nhap diem tb8.5\n",
            "Gioi\n"
          ]
        }
      ]
    }
  ]
}