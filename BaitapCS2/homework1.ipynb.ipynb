{
  "cells": [
    {
      "cell_type": "code",
      "execution_count": 1,
      "metadata": {
        "colab": {
          "base_uri": "https://localhost:8080/"
        },
        "id": "Z0pZcSAGSSzS",
        "outputId": "803fc4f3-c9e2-473e-fbdf-635739f66394"
      },
      "outputs": [
        {
          "name": "stdout",
          "output_type": "stream",
          "text": [
            "20\n",
            "so gap doi cua n la  40\n"
          ]
        }
      ],
      "source": [
        "#Bai1\n",
        "n=int(input())\n",
        "print(\"so gap doi cua n la \",2*n)"
      ]
    },
    {
      "cell_type": "code",
      "execution_count": 2,
      "metadata": {
        "colab": {
          "base_uri": "https://localhost:8080/"
        },
        "id": "zKKuzZQBSs7G",
        "outputId": "558604c5-51bd-4ad5-d4fc-fb30c2658de4"
      },
      "outputs": [
        {
          "name": "stdout",
          "output_type": "stream",
          "text": [
            "nhap chieu rong\n",
            "3\n",
            "nhap chieu dai\n",
            "5\n",
            "dien tich trong cay la 7.93\n"
          ]
        }
      ],
      "source": [
        "#Bai2\n",
        "print(\"nhap chieu rong\")\n",
        "a=float(input())\n",
        "print(\"nhap chieu dai\")\n",
        "b=float(input())\n",
        "pi=3.14\n",
        "dien_tich_hinh_tron= pi*(0.5*a)**2\n",
        "dien_tich_de_trong_cay=a*b - dien_tich_hinh_tron\n",
        "print(f'dien tich trong cay la {dien_tich_de_trong_cay:.2f}')"
      ]
    },
    {
      "cell_type": "code",
      "execution_count": 5,
      "metadata": {
        "colab": {
          "base_uri": "https://localhost:8080/"
        },
        "id": "Tx-9AqrPS4dL",
        "outputId": "91790f71-9a91-41c3-a08b-ed749f0e77d4"
      },
      "outputs": [
        {
          "name": "stdout",
          "output_type": "stream",
          "text": [
            "H\n",
            "h\n"
          ]
        }
      ],
      "source": [
        "#Bai3\n",
        "c=input()\n",
        "if c.isupper():\n",
        "  print(c.lower())\n",
        "else:\n",
        "  print(c.upper())"
      ]
    },
    {
      "cell_type": "code",
      "execution_count": 8,
      "metadata": {
        "colab": {
          "base_uri": "https://localhost:8080/"
        },
        "id": "t_vspWylToDF",
        "outputId": "20acde83-2f0e-47d0-d9f7-459a47bab5ae"
      },
      "outputs": [
        {
          "name": "stdout",
          "output_type": "stream",
          "text": [
            "3\n",
            "3 khong la ki tu alphabet\n"
          ]
        }
      ],
      "source": [
        "#Bai4\n",
        "c=input()\n",
        "if c.isalpha():\n",
        "  print(f'{c} la ki tu alphabet')\n",
        "else:\n",
        "  print(f'{c} khong la ki tu alphabet')\n",
        "\n"
      ]
    },
    {
      "cell_type": "code",
      "execution_count": 10,
      "metadata": {
        "colab": {
          "base_uri": "https://localhost:8080/"
        },
        "id": "x0CBplXrVFmF",
        "outputId": "d402c520-b5ce-4111-a67b-dc75cdeced49"
      },
      "outputs": [
        {
          "name": "stdout",
          "output_type": "stream",
          "text": [
            "H\n",
            "g\n"
          ]
        }
      ],
      "source": [
        "#Bai5\n",
        "c=input()\n",
        "if c.isupper() and \"A\"<c<=\"Z\":\n",
        "    print(chr(ord(c.lower())-1))\n",
        "else:\n",
        "    print(\"Truong hop dac biet\")"
      ]
    },
    {
      "cell_type": "code",
      "execution_count": 11,
      "metadata": {
        "colab": {
          "base_uri": "https://localhost:8080/"
        },
        "id": "TrFM4jjMV2u8",
        "outputId": "a7d63f77-e1b4-4247-bd35-4e09d0ea3993"
      },
      "outputs": [
        {
          "name": "stdout",
          "output_type": "stream",
          "text": [
            "Làm trên 1 file khác trong github\n"
          ]
        }
      ],
      "source": [
        "#Bai6\n",
        "print(\"Làm trên 1 file khác trong github\")"
      ]
    },
    {
      "cell_type": "code",
      "execution_count": 14,
      "metadata": {
        "colab": {
          "base_uri": "https://localhost:8080/"
        },
        "id": "H0ncYJKlWBKU",
        "outputId": "00da7cd1-2e34-4cbf-8a2a-1832d5cf5c03"
      },
      "outputs": [
        {
          "name": "stdout",
          "output_type": "stream",
          "text": [
            "zbcdefghijklmnopqrstupwxyz\n",
            "e k\n"
          ]
        }
      ],
      "source": [
        "#Bai7\n",
        "s=input()\n",
        "if len(s)>=20:\n",
        "  print(s[4],s[10])\n",
        "else:\n",
        "  print(\"invalid\")"
      ]
    },
    {
      "cell_type": "code",
      "execution_count": 20,
      "metadata": {
        "colab": {
          "base_uri": "https://localhost:8080/"
        },
        "id": "ok5VXSyVWuwn",
        "outputId": "5dd0812e-fc13-452f-c83c-cc19aa3c63a5"
      },
      "outputs": [
        {
          "name": "stdout",
          "output_type": "stream",
          "text": [
            "nguyen hai\n",
            "2000 2586\n",
            "ho va ten nguyen hai so tien phai tra la 1855505\n"
          ]
        }
      ],
      "source": [
        "a=input()\n",
        "b,c=map(int,input().split())\n",
        "sodien= c-b\n",
        "sotien=0\n",
        "if sodien < 0:\n",
        "    print(\"invalid\")\n",
        "else:\n",
        "    if sodien>400:\n",
        "        sotien+=(sodien-400)*3460\n",
        "        sodien=400\n",
        "    if sodien>300:\n",
        "        sotien+= (sodien-300)*3350\n",
        "        sodien=300\n",
        "    if sodien> 200:\n",
        "        sotien+=(sodien-200)*2998\n",
        "        sodien=200\n",
        "    if sodien>100:\n",
        "        sotien+=(sodien-100)*2380\n",
        "        sodien=100\n",
        "    if sodien>50:\n",
        "        sotien+=(sodien-50)*2050\n",
        "        sodien=50\n",
        "    if sodien>0:\n",
        "        sotien+=sodien*1984\n",
        "\n",
        "    sotien *= 1.08\n",
        "\n",
        "print(f'ho va ten {a} so tien phai tra la {sotien:.0f}')\n"
      ]
    },
    {
      "cell_type": "code",
      "execution_count": 21,
      "metadata": {
        "colab": {
          "base_uri": "https://localhost:8080/"
        },
        "id": "NCxefvxKef71",
        "outputId": "119e9aa9-6ba6-49d0-c4d8-0d8c774207a3"
      },
      "outputs": [
        {
          "name": "stdout",
          "output_type": "stream",
          "text": [
            "20\n",
            "20 la so chan\n"
          ]
        }
      ],
      "source": [
        "#bai1khac\n",
        "a=int(input())\n",
        "if a%2==0:\n",
        "  print(a,\"la so chan\")\n",
        "else:\n",
        "  print(a,\"la so le\")"
      ]
    },
    {
      "cell_type": "code",
      "execution_count": 24,
      "metadata": {
        "colab": {
          "base_uri": "https://localhost:8080/"
        },
        "id": "zxidHO_Je5v-",
        "outputId": "d559a296-a4d6-4eb7-e6f8-e79618cbc670"
      },
      "outputs": [
        {
          "name": "stdout",
          "output_type": "stream",
          "text": [
            "35\n",
            "True\n"
          ]
        }
      ],
      "source": [
        "#bai2khac\n",
        "a=int(input())\n",
        "if a%10==5:\n",
        "  print(\"True\")\n",
        "else:\n",
        "  print(\"False\")"
      ]
    },
    {
      "cell_type": "code",
      "execution_count": 25,
      "metadata": {
        "colab": {
          "base_uri": "https://localhost:8080/"
        },
        "id": "1VD2TQkIfzJ1",
        "outputId": "d5b4d909-d819-43ac-d46a-a41d800ea61d"
      },
      "outputs": [
        {
          "name": "stdout",
          "output_type": "stream",
          "text": [
            "15\n",
            "true\n"
          ]
        }
      ],
      "source": [
        "#bai3khac\n",
        "a=int(input())\n",
        "if a%3==0 and a%5==0:\n",
        "  print(\"true\")\n",
        "else:\n",
        "  print(\"false\")"
      ]
    },
    {
      "cell_type": "code",
      "execution_count": 26,
      "metadata": {
        "colab": {
          "base_uri": "https://localhost:8080/"
        },
        "id": "gzr8GXc9gUjP",
        "outputId": "ce802ab0-87f7-4d22-9bca-ff8b57807aae"
      },
      "outputs": [
        {
          "name": "stdout",
          "output_type": "stream",
          "text": [
            "2007\n",
            "du tuoi\n"
          ]
        }
      ],
      "source": [
        "#bai4khac\n",
        "year=int(input())\n",
        "age=2025-year\n",
        "if age>=18:\n",
        "  print(\"du tuoi\")\n",
        "else:\n",
        "  print(\"khong du tuoi\")\n"
      ]
    },
    {
      "cell_type": "code",
      "execution_count": 28,
      "metadata": {
        "colab": {
          "base_uri": "https://localhost:8080/"
        },
        "id": "GSdcVrkGgtSW",
        "outputId": "26df509f-e9c1-4302-cc26-ce4aa1d363ca"
      },
      "outputs": [
        {
          "name": "stdout",
          "output_type": "stream",
          "text": [
            "20 13\n",
            "20.0\n"
          ]
        }
      ],
      "source": [
        "#bai5khac\n",
        "a,b=map(float,input().split())\n",
        "if a>b:\n",
        "  print (a)\n",
        "elif a<b:\n",
        "  print(b)\n",
        "else:\n",
        "  print(\"bang nhau\")"
      ]
    },
    {
      "cell_type": "code",
      "execution_count": 30,
      "metadata": {
        "colab": {
          "base_uri": "https://localhost:8080/"
        },
        "id": "ULuT0Radhauf",
        "outputId": "5264ec10-5b9c-41c2-e611-70baf03ed94c"
      },
      "outputs": [
        {
          "name": "stdout",
          "output_type": "stream",
          "text": [
            "20\n",
            "so\n"
          ]
        }
      ],
      "source": [
        "#bai6khac\n",
        "a=input()\n",
        "if a.isdigit():\n",
        "  print(\"so\")\n",
        "else:\n",
        "  print(\"chu cai\")"
      ]
    },
    {
      "cell_type": "code",
      "execution_count": 32,
      "metadata": {
        "colab": {
          "base_uri": "https://localhost:8080/"
        },
        "id": "r1eo_jZjiXmm",
        "outputId": "a80ecf7a-3f17-4a79-fe27-ab2af9b01121"
      },
      "outputs": [
        {
          "name": "stdout",
          "output_type": "stream",
          "text": [
            "8\n",
            "gioi\n"
          ]
        }
      ],
      "source": [
        "#bai7khac\n",
        "diem=float(input())\n",
        "if 10>=diem>=8:\n",
        "  print(\"gioi\")\n",
        "if 8>diem>=6.5:\n",
        "  print(\"kha\")\n",
        "if 6.5>diem>=5:\n",
        "  print(\"trung binh\")\n",
        "if 0<=diem<5:\n",
        "  print(\"yeu\")"
      ]
    },
    {
      "cell_type": "code",
      "execution_count": 35,
      "metadata": {
        "colab": {
          "base_uri": "https://localhost:8080/"
        },
        "id": "BskkcovpjOPe",
        "outputId": "d66d87dc-8d49-48bc-8623-f5ffb473dd7b"
      },
      "outputs": [
        {
          "name": "stdout",
          "output_type": "stream",
          "text": [
            "1900\n",
            "nam khong nhuan\n"
          ]
        }
      ],
      "source": [
        "#bai8khac\n",
        "year=int(input())\n",
        "if (year%4==0 and year%100!=0) or year%400==0:\n",
        "  print(\"nam nhuan\")\n",
        "else:\n",
        "  print(\"nam khong nhuan\")"
      ]
    },
    {
      "cell_type": "code",
      "execution_count": 36,
      "metadata": {
        "colab": {
          "base_uri": "https://localhost:8080/"
        },
        "id": "aBxbu37gkO7O",
        "outputId": "36f3d17f-b0bb-4ed1-a34e-03abe61b803f"
      },
      "outputs": [
        {
          "name": "stdout",
          "output_type": "stream",
          "text": [
            "9\n",
            "Chín\n"
          ]
        }
      ],
      "source": [
        "#bai9khac\n",
        "so=int(input())\n",
        "match so:\n",
        "  case 0:\n",
        "      print(\"Không\")\n",
        "  case 1:\n",
        "      print(\"Một\")\n",
        "  case 2:\n",
        "      print(\"Hai\")\n",
        "  case 3:\n",
        "      print(\"Ba\")\n",
        "  case 4:\n",
        "      print(\"Bốn\")\n",
        "  case 5:\n",
        "      print(\"Năm\")\n",
        "  case 6:\n",
        "      print(\"Sáu\")\n",
        "  case 7:\n",
        "      print(\"Bảy\")\n",
        "  case 8:\n",
        "      print(\"Tám\")\n",
        "  case 9:\n",
        "      print(\"Chín\")\n"
      ]
    },
    {
      "cell_type": "code",
      "execution_count": 37,
      "metadata": {
        "colab": {
          "base_uri": "https://localhost:8080/"
        },
        "id": "lKOlX-J2kqYe",
        "outputId": "25660032-7b49-464a-ebf4-48987db043b1"
      },
      "outputs": [
        {
          "name": "stdout",
          "output_type": "stream",
          "text": [
            "10\n",
            "qua mon\n"
          ]
        }
      ],
      "source": [
        "#bai10khac\n",
        "diemthi=float(input())\n",
        "if 10>=diemthi>=4:\n",
        "  print(\"qua mon\")\n",
        "else:\n",
        "  print(\"hoc lai\")"
      ]
    },
    {
      "cell_type": "code",
      "execution_count": null,
      "metadata": {
        "colab": {
          "base_uri": "https://localhost:8080/"
        },
        "id": "LgYe7hqXllU-",
        "outputId": "dc46e703-4eaa-422a-ab60-ecb16e95e2eb"
      },
      "outputs": [
        {
          "name": "stdout",
          "output_type": "stream",
          "text": [
            "2009\n",
            "em chua 18\n"
          ]
        }
      ],
      "source": [
        "#bai11khac\n",
        "year=int(input())\n",
        "tuoi=2025-year\n",
        "if tuoi>=18:\n",
        "  print(\"du 18\")\n",
        "else:\n",
        "  print(\"em chua 18\")"
      ]
    }
  ],
  "metadata": {
    "colab": {
      "provenance": []
    },
    "kernelspec": {
      "display_name": "Python 3",
      "name": "python3"
    },
    "language_info": {
      "name": "python"
    }
  },
  "nbformat": 4,
  "nbformat_minor": 0
}
