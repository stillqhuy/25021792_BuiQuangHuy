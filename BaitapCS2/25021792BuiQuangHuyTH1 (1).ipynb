{
 "cells": [
  {
   "cell_type": "code",
   "execution_count": 1,
   "id": "693e3ba0-a2b0-4d41-a662-93394312f0eb",
   "metadata": {},
   "outputs": [
    {
     "name": "stdout",
     "output_type": "stream",
     "text": [
      "<class 'int'>-2\t5\n"
     ]
    }
   ],
   "source": [
    "#W1A1\n",
    "a=5\n",
    "b=2\n",
    "print(type(a),b,sep=\"-\",end=\"\\t\")\n",
    "print(a)"
   ]
  },
  {
   "cell_type": "code",
   "execution_count": 2,
   "id": "47bf1502-b1d4-4758-9da4-36736ffffa4f",
   "metadata": {},
   "outputs": [
    {
     "name": "stdout",
     "output_type": "stream",
     "text": [
      "Thanhpho HaNoi nam: 2025\n"
     ]
    }
   ],
   "source": [
    "#W1A2\n",
    "city=\"HaNoi\"\n",
    "year=2025\n",
    "print(\"Thanhpho\",city,\"nam:\",year)"
   ]
  },
  {
   "cell_type": "code",
   "execution_count": 3,
   "id": "ccdaba69-c07a-4a71-bde0-d2e0c8c25a66",
   "metadata": {},
   "outputs": [
    {
     "name": "stdout",
     "output_type": "stream",
     "text": [
      "10\n"
     ]
    }
   ],
   "source": [
    "#W1A3\n",
    "n=4\n",
    "t=0\n",
    "for i in range (1,n+1):\n",
    "    t+=i\n",
    "print(t)"
   ]
  },
  {
   "cell_type": "code",
   "execution_count": 4,
   "id": "bac08ee9-e1dd-4dec-99b3-9da5431b17f5",
   "metadata": {},
   "outputs": [
    {
     "name": "stdout",
     "output_type": "stream",
     "text": [
      "1 la so le\n",
      "2 la so chan\n",
      "3 la so le\n",
      "4 la so chan\n"
     ]
    }
   ],
   "source": [
    "#W1A4\n",
    "num=[1,2,3,4]\n",
    "for x in num:\n",
    "    if x%2==0:\n",
    "        print(x,\"la so chan\")\n",
    "    else:\n",
    "        print(x,\"la so le\")"
   ]
  },
  {
   "cell_type": "code",
   "execution_count": 5,
   "id": "a6951d0e-9c9e-4066-9756-cd4a991997de",
   "metadata": {},
   "outputs": [
    {
     "name": "stdout",
     "output_type": "stream",
     "text": [
      "so con vat la 4\n"
     ]
    }
   ],
   "source": [
    "#W1A5\n",
    "animals=[\"cat\",\"dog\",\"cat\",\"bird\"]\n",
    "count=0\n",
    "for i in animals:\n",
    "    count+=1\n",
    "print(\"so con vat la\",count)"
   ]
  },
  {
   "cell_type": "code",
   "execution_count": null,
   "id": "d8e2cbb1-40f0-4852-b7bc-637bcd4926e0",
   "metadata": {},
   "outputs": [
    {
     "name": "stdout",
     "output_type": "stream",
     "text": [
      "=== AI Prediction System ===\n",
      "1) Sentiment analysis\n",
      "2) Weather forecast\n",
      "3) Exit\n"
     ]
    }
   ],
   "source": [
    "#W1A6\n",
    "print(\"=== AI Prediction System ===\")\n",
    "print(\"1) Sentiment analysis\")\n",
    "print(\"2) Weather forecast\")\n",
    "print(\"3) Exit\")\n",
    "\n",
    "choice = input(\"Please choose an option: \")\n",
    "\n",
    "if choice == \"1\":\n",
    "    print(\"Running sentiment analysis...\")\n",
    "elif choice == \"2\":\n",
    "    print(\"Fetching weather forecast...\")\n",
    "elif choice == \"3\":\n",
    "    print(\"Exiting program. Goodbye!\")"
   ]
  },
  {
   "cell_type": "code",
   "execution_count": 7,
   "id": "70073247-a778-493b-9260-d35e86500926",
   "metadata": {},
   "outputs": [
    {
     "name": "stdin",
     "output_type": "stream",
     "text": [
      "nhap so: 5\n"
     ]
    },
    {
     "name": "stdout",
     "output_type": "stream",
     "text": [
      "5 la so le\n"
     ]
    }
   ],
   "source": [
    "#W1A7\n",
    "num=int(input(\"nhap so:\"))\n",
    "if num%2==0:\n",
    "    print(num,\"la so chan\")\n",
    "else:\n",
    "    print(num,\"la so le\")"
   ]
  },
  {
   "cell_type": "code",
   "execution_count": 8,
   "id": "b9e24cc2-77a3-44ab-a74e-b72876e1d9f2",
   "metadata": {},
   "outputs": [
    {
     "name": "stdout",
     "output_type": "stream",
     "text": [
      "ai dang hoc lan: 1\n",
      "ai dang hoc lan: 2\n",
      "ai dang hoc lan: 3\n",
      "huan luyen xong\n"
     ]
    }
   ],
   "source": [
    "#W1A8\n",
    "for i in range(3):\n",
    "    print(\"ai dang hoc lan:\",i+1)\n",
    "print(\"huan luyen xong\")"
   ]
  },
  {
   "cell_type": "code",
   "execution_count": 9,
   "id": "9d9ac833-f808-4d6c-a24b-6470113c171e",
   "metadata": {},
   "outputs": [
    {
     "name": "stdout",
     "output_type": "stream",
     "text": [
      "du doan con vat: cat\n",
      "du doan con vat: dog\n",
      "du doan con vat: fish\n"
     ]
    }
   ],
   "source": [
    "#W1A9\n",
    "for x in[\"cat\",\"dog\",\"fish\"]:\n",
    "    print(\"du doan con vat:\",x)"
   ]
  },
  {
   "cell_type": "code",
   "execution_count": 10,
   "id": "60f0de3d-e706-466e-afab-367e32b4f754",
   "metadata": {},
   "outputs": [
    {
     "name": "stdout",
     "output_type": "stream",
     "text": [
      "=== AI Prediction System ===\n",
      "(1) Sentiment analysis\n",
      "(2) Weather forecast\n",
      "(3) Exit\n",
      "Please choose an option:\n"
     ]
    }
   ],
   "source": [
    "#W1A10\n",
    "print(\"=== AI Prediction System ===\")\n",
    "print(\"(1) Sentiment analysis\")\n",
    "print(\"(2) Weather forecast\")\n",
    "print(\"(3) Exit\")\n",
    "print(\"Please choose an option:\")"
   ]
  }
 ],
 "metadata": {
  "kernelspec": {
   "display_name": "Python 3 (ipykernel)",
   "language": "python",
   "name": "python3"
  },
  "language_info": {
   "codemirror_mode": {
    "name": "ipython",
    "version": 3
   },
   "file_extension": ".py",
   "mimetype": "text/x-python",
   "name": "python",
   "nbconvert_exporter": "python",
   "pygments_lexer": "ipython3",
   "version": "3.11.9"
  }
 },
 "nbformat": 4,
 "nbformat_minor": 5
}
