{
  "nbformat": 4,
  "nbformat_minor": 0,
  "metadata": {
    "colab": {
      "provenance": []
    },
    "kernelspec": {
      "name": "python3",
      "display_name": "Python 3"
    },
    "language_info": {
      "name": "python"
    }
  },
  "cells": [
    {
      "cell_type": "code",
      "execution_count": null,
      "metadata": {
        "colab": {
          "base_uri": "https://localhost:8080/"
        },
        "id": "EoIozj5eC-G1",
        "outputId": "22d08bd5-a033-4cc2-c610-492a10dac4e7"
      },
      "outputs": [
        {
          "output_type": "stream",
          "name": "stdout",
          "text": [
            "nhap chieu dai va rong20 15\n",
            "chu vi la 70 dien tich la 300\n"
          ]
        }
      ],
      "source": [
        "#Bai1\n",
        "a,b=map(int,input(\"nhap chieu dai va rong\").split())\n",
        "dientich=a*b\n",
        "chuvi=2*(a+b)\n",
        "print(f'chu vi la {chuvi} dien tich la {dientich}')\n"
      ]
    },
    {
      "cell_type": "code",
      "source": [
        "#Bai2\n",
        "r=float(input(\"nhap ban kinh\"))\n",
        "pi=3.14\n",
        "dientich=pi*r*r\n",
        "chuvi=2*pi*r\n",
        "print(f'chu vi la {chuvi:.2f} dien tich la {dientich:.2f}')"
      ],
      "metadata": {
        "id": "oCOnA5q3Si1p",
        "colab": {
          "base_uri": "https://localhost:8080/"
        },
        "outputId": "4948a164-a6ee-4432-9bde-8668c71b9673"
      },
      "execution_count": null,
      "outputs": [
        {
          "output_type": "stream",
          "name": "stdout",
          "text": [
            "nhap ban kinh20\n",
            "chu vi la 125.60 dien tich la 1256.00\n"
          ]
        }
      ]
    },
    {
      "cell_type": "code",
      "source": [
        "#Bai3\n",
        "a,b,c=map(int,input(\"nhap 3 canh\").split())\n",
        "from math import sqrt\n",
        "if a+b>c and a+c>b and b+c>a:\n",
        "  if a==b==c:\n",
        "    print(\"tam giac deu\")\n",
        "  elif a==b or a==c or b==c:\n",
        "    print(\"tam giac can\")\n",
        "  elif a*a==b*b+c*c or b*b==a*a+c*c or c*c==a*a+b*b:\n",
        "    print(\"tam giac vuong\")\n",
        "  else :\n",
        "    print(\"tam giac thuong\")\n",
        "  ncv=(a+b+c)/2\n",
        "  dientich=sqrt(ncv*(ncv-a)*(ncv-b)*(ncv-c))\n",
        "  chuvi=ncv*2\n",
        "  print(f'dien tich la {dientich} chu vi la {chuvi}')\n",
        "else: print(\"khong phai la tam giac\")"
      ],
      "metadata": {
        "colab": {
          "base_uri": "https://localhost:8080/"
        },
        "id": "myzdC1See3jf",
        "outputId": "24a10677-b7a6-4d6e-c030-b3acfa7cacd6"
      },
      "execution_count": 6,
      "outputs": [
        {
          "output_type": "stream",
          "name": "stdout",
          "text": [
            "nhap 3 canh3 4 5 \n",
            "tam giac vuong\n",
            "dien tich la 6.0 chu vi la 12.0\n"
          ]
        }
      ]
    },
    {
      "cell_type": "code",
      "source": [
        "#Bai4\n",
        "print(\"nhap a,b trong phuong trinh ax+b=0\")\n",
        "a,b=map(float,input().split())\n",
        "x=-b/a\n",
        "print(f'nghiem cua phuong trinh la x={x}')"
      ],
      "metadata": {
        "colab": {
          "base_uri": "https://localhost:8080/"
        },
        "id": "w9pM3dw7hm1I",
        "outputId": "84302663-0ee7-471e-a81f-fc20336ee935"
      },
      "execution_count": 7,
      "outputs": [
        {
          "output_type": "stream",
          "name": "stdout",
          "text": [
            "nhap a,b trong phuong trinh ax+b=0\n",
            "6 3\n",
            "nghiem cua phuong trinh la x=-0.5\n"
          ]
        }
      ]
    },
    {
      "cell_type": "code",
      "source": [
        "#Bai5\n",
        "print(\"nhap a,b,c trong phuong trinh ax^2+bx+c=0\")\n",
        "a,b,c=map(float,input().split())\n",
        "from math import sqrt\n",
        "delta=b*b-4*a*c\n",
        "if delta>0:\n",
        "  x1=(-b+sqrt(delta))/(2*a)\n",
        "  x2=(-b-sqrt(delta))/(2*a)\n",
        "  print(f'nghiem cua phuong trinh la x1={x1} x2={x2}')\n",
        "elif delta==0:\n",
        "  x=-b/(2*a)\n",
        "  print(f'nghiem cua phuong trinh la x={x}')\n",
        "else:\n",
        "  print(\"phuong trinh vo nghiem\")\n"
      ],
      "metadata": {
        "colab": {
          "base_uri": "https://localhost:8080/"
        },
        "id": "Y-eID8eriVET",
        "outputId": "c180cbbd-23b7-4792-bbe6-d10707d8f4e7"
      },
      "execution_count": 10,
      "outputs": [
        {
          "output_type": "stream",
          "name": "stdout",
          "text": [
            "nhap a,b,c trong phuong trinh ax^2+bx+c=0\n",
            "2 5 1 \n",
            "nghiem cua phuong trinh la x1=-0.21922359359558485 x2=-2.2807764064044154\n"
          ]
        }
      ]
    },
    {
      "cell_type": "code",
      "source": [
        "#Bai6\n",
        "a,b,c,d=map(float,input().split())\n",
        "max=a\n",
        "if max<b:\n",
        "  max=b\n",
        "if max<c:\n",
        "  max=c\n",
        "if max<d:\n",
        "  max=d\n",
        "print(f'so lon nhat la {max:.0f}')"
      ],
      "metadata": {
        "colab": {
          "base_uri": "https://localhost:8080/"
        },
        "id": "yhyxFytz0XzT",
        "outputId": "fcaf61b2-38ad-4941-f223-a024f17f1898"
      },
      "execution_count": 15,
      "outputs": [
        {
          "output_type": "stream",
          "name": "stdout",
          "text": [
            "3 5 8 2\n",
            "so lon nhat la 8\n"
          ]
        }
      ]
    },
    {
      "cell_type": "code",
      "source": [
        "#Bai7\n",
        "a,b,c,d=map(float,input().split())\n",
        "min=a\n",
        "if min>b:\n",
        "  min=b\n",
        "if min>c:\n",
        "  min=c\n",
        "if min>d:\n",
        "  min=d\n",
        "print(f'so nho nhat la {min:.0f}')"
      ],
      "metadata": {
        "colab": {
          "base_uri": "https://localhost:8080/"
        },
        "id": "-Ek407JC1HHP",
        "outputId": "989b45f3-f880-4163-bbad-f6aa1530dc20"
      },
      "execution_count": 16,
      "outputs": [
        {
          "output_type": "stream",
          "name": "stdout",
          "text": [
            "3 5 8 2\n",
            "so nho nhat la 2\n"
          ]
        }
      ]
    },
    {
      "cell_type": "code",
      "source": [
        "#Bai8\n",
        "print(\"nhap cac he so a b m c d n cua he ptr ax+by=m cx+dy=n\")\n",
        "a,b,m,c,d,n=map(float,input().split())\n",
        "if a*d==b*c:\n",
        "\n",
        "  if ((a==b==0 and  m!=0) or (c==d==0 and n!=0)) or b*n!=m*d :\n",
        "    print(\"he vo nghiem\")\n",
        "  else:\n",
        "    print(\"he vo so nghiem\")\n",
        "elif a==0:\n",
        "  y=m/b\n",
        "  x=(n-d*y)/c\n",
        "  print(f'x={x} y={y}')\n",
        "\n",
        "\n",
        "else:\n",
        "  y=(((-1*m*c)/a)+n)/(-b*(c/a)+d)\n",
        "  x=(n-d*y)/c\n",
        "  print(f'x={x} y={y}')\n",
        "\n",
        "\n",
        "\n"
      ],
      "metadata": {
        "colab": {
          "base_uri": "https://localhost:8080/"
        },
        "id": "O6DU2cu61e6G",
        "outputId": "fd59150b-0ab6-4399-ae9f-b750b066ca7e"
      },
      "execution_count": 17,
      "outputs": [
        {
          "output_type": "stream",
          "name": "stdout",
          "text": [
            "nhap cac he so a b m c d n cua he ptr ax+by=m cx+dy=n\n",
            "0 0 0 1 1 0\n",
            "he vo so nghiem\n"
          ]
        }
      ]
    },
    {
      "cell_type": "code",
      "source": [
        "#Bai9\n",
        "sec=float(input())\n",
        "hour=sec/3600\n",
        "m=hour-round(hour)\n",
        "min=m*60\n",
        "s=min-round(min)\n",
        "sec=s*60\n",
        "print(f'{hour:.0f}:{min:.0f}:{sec:.0f}')\n"
      ],
      "metadata": {
        "colab": {
          "base_uri": "https://localhost:8080/"
        },
        "id": "PHj8oCF-7g0A",
        "outputId": "db16e9e6-503c-4194-c034-a17fa15cbeaa"
      },
      "execution_count": 19,
      "outputs": [
        {
          "output_type": "stream",
          "name": "stdout",
          "text": [
            "8900\n",
            "2:28:20\n"
          ]
        }
      ]
    },
    {
      "cell_type": "code",
      "source": [
        "#Bai10\n",
        "print(\"nhap toa do tam (a,b)\")\n",
        "a,b=map(float,input().split())\n",
        "r=float(input(\"nhap ban kinh\"))\n",
        "x,y=map(float,input(\"nhap toa do diem (x,y)\").split())\n",
        "if r*r==(x-a)**2+(x-b)**2:\n",
        "  print(\"diem thuoc hinh tron\")\n",
        "else:\n",
        "  print(\"diem khong thuoc hinh tron\")\n",
        "\n",
        "\n",
        "\n"
      ],
      "metadata": {
        "colab": {
          "base_uri": "https://localhost:8080/"
        },
        "id": "bHTz8RcJ_SxW",
        "outputId": "7f59b522-3566-4819-cb9d-974ce5b99a7b"
      },
      "execution_count": 20,
      "outputs": [
        {
          "output_type": "stream",
          "name": "stdout",
          "text": [
            "nhap toa do tam (a,b)\n",
            "5 6\n",
            "nhap ban kinh5\n",
            "nhap toa do diem (x,y)7 8\n",
            "diem khong thuoc hinh tron\n"
          ]
        }
      ]
    },
    {
      "cell_type": "code",
      "source": [
        "#Bai11\n",
        "x,y=map(float,input(\"nhap x^y\").split())\n",
        "res=x**y\n",
        "print(f'x^y={res:.2f}')"
      ],
      "metadata": {
        "colab": {
          "base_uri": "https://localhost:8080/"
        },
        "id": "oi4HmgA8CoWA",
        "outputId": "99894089-9247-4db3-bbe2-e8ba42dd4d8f"
      },
      "execution_count": 24,
      "outputs": [
        {
          "output_type": "stream",
          "name": "stdout",
          "text": [
            "nhap x^y0.5 0.8\n",
            "x^y=0.57\n"
          ]
        }
      ]
    }
  ]
}