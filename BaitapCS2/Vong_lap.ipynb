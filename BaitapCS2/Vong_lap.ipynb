{
  "nbformat": 4,
  "nbformat_minor": 0,
  "metadata": {
    "colab": {
      "provenance": []
    },
    "kernelspec": {
      "name": "python3",
      "display_name": "Python 3"
    },
    "language_info": {
      "name": "python"
    }
  },
  "cells": [
    {
      "cell_type": "code",
      "execution_count": 3,
      "metadata": {
        "colab": {
          "base_uri": "https://localhost:8080/"
        },
        "id": "iwr6PIPTSSiY",
        "outputId": "deae5139-bc06-4862-9e9f-06fdd479a1c5"
      },
      "outputs": [
        {
          "output_type": "stream",
          "name": "stdout",
          "text": [
            "3\n",
            "6\n"
          ]
        }
      ],
      "source": [
        "#Bai13\n",
        "n=int(input())\n",
        "gt=1\n",
        "for i in range (1,n+1):\n",
        "  gt*=i\n",
        "print(gt)\n"
      ]
    },
    {
      "cell_type": "code",
      "source": [
        "\n",
        "#Bai14\n",
        "n=int(input(\"nhap so mu\"))\n",
        "x=int(input(\"nhap x\"))\n",
        "res=1\n",
        "for i in range(n):\n",
        "  res*=x\n",
        "print(res)\n",
        "\n"
      ],
      "metadata": {
        "colab": {
          "base_uri": "https://localhost:8080/"
        },
        "id": "MqO9-fq5Scqz",
        "outputId": "a5876b27-8df8-43ff-c7eb-1c8cc663ff36"
      },
      "execution_count": 8,
      "outputs": [
        {
          "output_type": "stream",
          "name": "stdout",
          "text": [
            "nhap so mu3\n",
            "nhap x2\n",
            "8\n"
          ]
        }
      ]
    },
    {
      "cell_type": "code",
      "source": [
        "#Bai15\n",
        "x=0\n",
        "gt=1\n",
        "n=int(input(\"nhap n \"))\n",
        "for i in range (0,n+1):\n",
        "  if i==0:\n",
        "    gt=1\n",
        "  else:\n",
        "    gt*=i\n",
        "  x+=(1/gt)\n",
        "print(x)"
      ],
      "metadata": {
        "colab": {
          "base_uri": "https://localhost:8080/"
        },
        "id": "HTQ3vUFZWttP",
        "outputId": "a21fee79-72c6-47b4-b351-9d8b9a57b296"
      },
      "execution_count": 14,
      "outputs": [
        {
          "output_type": "stream",
          "name": "stdout",
          "text": [
            "nhap n 3\n",
            "2.6666666666666665\n"
          ]
        }
      ]
    },
    {
      "cell_type": "code",
      "source": [
        "#Bai16\n",
        "x=int(input(\"nhap x \"))\n",
        "res=0\n",
        "n=int(input(\"nhap n \"))\n",
        "for i in range(1,n+1):\n",
        "  res+=(x**i)\n",
        "print(res)\n",
        "\n"
      ],
      "metadata": {
        "colab": {
          "base_uri": "https://localhost:8080/"
        },
        "id": "zWc5OoIiaY83",
        "outputId": "88a58e33-c449-42d0-bc6a-c9f04648ee68"
      },
      "execution_count": 16,
      "outputs": [
        {
          "output_type": "stream",
          "name": "stdout",
          "text": [
            "nhap x 2\n",
            "nhap n 2\n",
            "6\n"
          ]
        }
      ]
    },
    {
      "cell_type": "code",
      "source": [
        "#Bai17\n",
        "x=int(input(\"nhap x \"))\n",
        "n=int(input(\"nhap n \"))\n",
        "res=0\n",
        "for i in range(0,n+1):\n",
        "  if i==0:\n",
        "    gt=1\n",
        "  else:\n",
        "    gt*=i\n",
        "  res+=(x/gt)\n",
        "print(res)\n"
      ],
      "metadata": {
        "colab": {
          "base_uri": "https://localhost:8080/"
        },
        "id": "jIE9DwJNlFxk",
        "outputId": "cfe2cb74-47b1-4376-a713-b8b74ea0cc98"
      },
      "execution_count": 17,
      "outputs": [
        {
          "output_type": "stream",
          "name": "stdout",
          "text": [
            "nhap x 2\n",
            "nhap n 3\n",
            "5.333333333333333\n"
          ]
        }
      ]
    },
    {
      "cell_type": "code",
      "source": [
        "#Bai18\n",
        "for a in range(1,10):\n",
        "  for b in range(0,10):\n",
        "    for c in range(0,10):\n",
        "      if 100*a+10*b+c==a**3+b**3+c**3:\n",
        "        print(f'{a}{b}{c}')\n"
      ],
      "metadata": {
        "colab": {
          "base_uri": "https://localhost:8080/"
        },
        "id": "wuHTSzxko6o9",
        "outputId": "39b77d9f-9fb9-4180-f5b3-f4f27748407d"
      },
      "execution_count": 29,
      "outputs": [
        {
          "output_type": "stream",
          "name": "stdout",
          "text": [
            "153\n",
            "370\n",
            "371\n",
            "407\n"
          ]
        }
      ]
    },
    {
      "cell_type": "code",
      "source": [
        "#Bai19\n",
        "n=int(input(\"nhap n \"))\n",
        "snt=True\n",
        "if n<2:\n",
        "  print(\"khong phai so nguyen to\")\n",
        "else:\n",
        "  for i in range(2,n):\n",
        "    if n%i==0:\n",
        "      snt=False\n",
        "    break\n",
        "if snt:\n",
        "  print(\"la so nguyento\")\n",
        "else:\n",
        "  print(\"khong la so nguyen to\")"
      ],
      "metadata": {
        "colab": {
          "base_uri": "https://localhost:8080/"
        },
        "id": "TObseywcq2H8",
        "outputId": "f064bf46-1282-4a1c-bc0c-6e8072b9f0a9"
      },
      "execution_count": 36,
      "outputs": [
        {
          "output_type": "stream",
          "name": "stdout",
          "text": [
            "nhap n 11\n",
            "la so nguyento\n"
          ]
        }
      ]
    },
    {
      "cell_type": "code",
      "source": [
        "#Bai20\n",
        "n=int(input(\"nhap n khong am lon hon 1 :\"))\n",
        "def snt(x):\n",
        "  if x<2:\n",
        "    return False\n",
        "  for i in range(2,x):\n",
        "    if x%i==0:\n",
        "      return False\n",
        "  return True\n",
        "for i in range (2,n+1):\n",
        "  if snt(i):\n",
        "    print(i)\n",
        "\n",
        "\n",
        "\n"
      ],
      "metadata": {
        "colab": {
          "base_uri": "https://localhost:8080/"
        },
        "id": "FK8CtNPpw--_",
        "outputId": "f5f9e4b6-1026-4cd2-89ea-3a919f816333"
      },
      "execution_count": 39,
      "outputs": [
        {
          "output_type": "stream",
          "name": "stdout",
          "text": [
            "nhap n khong am lon hon 1 :10\n",
            "2\n",
            "3\n",
            "5\n",
            "7\n"
          ]
        }
      ]
    }
  ]
}