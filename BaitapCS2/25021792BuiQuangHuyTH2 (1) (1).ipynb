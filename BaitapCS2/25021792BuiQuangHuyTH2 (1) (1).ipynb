{
 "cells": [
  {
   "cell_type": "code",
   "execution_count": 2,
   "id": "3a12d1c9-c916-4de9-8e75-72018cd29f5c",
   "metadata": {},
   "outputs": [
    {
     "name": "stdin",
     "output_type": "stream",
     "text": [
      " 2 3\n"
     ]
    },
    {
     "name": "stdout",
     "output_type": "stream",
     "text": [
      "5\n"
     ]
    }
   ],
   "source": [
    "#W2A1\n",
    "so1,so2=map(int,input().split())\n",
    "tong=so1+so2\n",
    "print(tong)"
   ]
  },
  {
   "cell_type": "code",
   "execution_count": 3,
   "id": "72ed4b45-604d-44ba-b0b1-419bbf51b0cb",
   "metadata": {},
   "outputs": [
    {
     "name": "stdin",
     "output_type": "stream",
     "text": [
      " Hung\n"
     ]
    },
    {
     "name": "stdout",
     "output_type": "stream",
     "text": [
      "xin chao Hung\n"
     ]
    }
   ],
   "source": [
    "#W2A2\n",
    "name=input()\n",
    "print(\"xin chao\",name)"
   ]
  },
  {
   "cell_type": "code",
   "execution_count": 7,
   "id": "b43fdde9-46a5-432c-8284-014f669b7907",
   "metadata": {},
   "outputs": [
    {
     "name": "stdin",
     "output_type": "stream",
     "text": [
      " 11/5\n"
     ]
    },
    {
     "name": "stdout",
     "output_type": "stream",
     "text": [
      "11+5=16\n",
      "11-5=6\n",
      "11*5=55\n",
      "11/5=2.20\n",
      "11//5=2\n",
      "11%5=1\n"
     ]
    }
   ],
   "source": [
    "#W2A3\n",
    "a,b=map(int,input().split(\"/\"))\n",
    "print(f'{a}+{b}={a+b}')\n",
    "print(f'{a}-{b}={a-b}')\n",
    "print(f'{a}*{b}={a*b}')\n",
    "print(f'{a}/{b}={a/b:.2f}')\n",
    "print(f'{a}//{b}={a//b}')\n",
    "print(f'{a}%{b}={a%b}')\n"
   ]
  },
  {
   "cell_type": "code",
   "execution_count": 13,
   "id": "bb645f0d-cb64-44d3-b646-ff632c27fc12",
   "metadata": {},
   "outputs": [
    {
     "name": "stdin",
     "output_type": "stream",
     "text": [
      " 1 2 3 4 5 6\n"
     ]
    },
    {
     "name": "stdout",
     "output_type": "stream",
     "text": [
      "4.2\n"
     ]
    }
   ],
   "source": [
    "#W2A4\n",
    "a1,b1,c1,a2,b2,a3=map(int,input().split())\n",
    "Tb=(a1+b1+c1+(a2+b2)*2+a3*3)/10\n",
    "print(f'{Tb:.1f}')"
   ]
  },
  {
   "cell_type": "code",
   "execution_count": 13,
   "id": "3ea67bf7-9ff7-4d72-a9e4-62b1b634e44f",
   "metadata": {},
   "outputs": [
    {
     "name": "stdin",
     "output_type": "stream",
     "text": [
      " 1 2\n"
     ]
    },
    {
     "name": "stdout",
     "output_type": "stream",
     "text": [
      "1\n"
     ]
    }
   ],
   "source": [
    "#W2A5\n",
    "a,b=map(int,input().split())\n",
    "print(f'{a**b}')"
   ]
  },
  {
   "cell_type": "code",
   "execution_count": 14,
   "id": "9a3f2976-a45e-4c05-a7f1-2ec87a100f8e",
   "metadata": {},
   "outputs": [
    {
     "name": "stdin",
     "output_type": "stream",
     "text": [
      " h\n"
     ]
    },
    {
     "name": "stdout",
     "output_type": "stream",
     "text": [
      "72 H\n"
     ]
    }
   ],
   "source": [
    "#W2A6\n",
    "s2=input()\n",
    "s2=ord(s2)-32\n",
    "print(s2,chr(s2))"
   ]
  },
  {
   "cell_type": "code",
   "execution_count": 27,
   "id": "c27ddc59-e851-4251-9db3-4acefce5125e",
   "metadata": {},
   "outputs": [],
   "source": [
    "#W2A7\n",
    "A = ((13 ** 2) * 3) + 5\n",
    "B = 13**2*3 + 5\n"
   ]
  },
  {
   "cell_type": "code",
   "execution_count": 5,
   "id": "26b3f41b-4876-49b2-952d-785030c9b6eb",
   "metadata": {},
   "outputs": [
    {
     "name": "stdin",
     "output_type": "stream",
     "text": [
      " 32\n"
     ]
    },
    {
     "name": "stdout",
     "output_type": "stream",
     "text": [
      "Nhiet do theo do F la: 89.60\n"
     ]
    }
   ],
   "source": [
    "#W2A8\n",
    "C=int(input())\n",
    "F=1.8*C+32\n",
    "print(\"Nhiet do theo do F la:\",f'{F:.2f}')"
   ]
  },
  {
   "cell_type": "code",
   "execution_count": 8,
   "id": "0a6ee7d1-3cce-4dee-94ee-958717717033",
   "metadata": {},
   "outputs": [
    {
     "name": "stdin",
     "output_type": "stream",
     "text": [
      " 150\n"
     ]
    },
    {
     "name": "stdout",
     "output_type": "stream",
     "text": [
      "so tien phai tra la: 220.00 USD\n"
     ]
    }
   ],
   "source": [
    "#W2A9\n",
    "x=int(input())\n",
    "print(\"so tien phai tra la:\",f'{(x+0.4*x+10):.2f}',\"USD\")"
   ]
  },
  {
   "cell_type": "code",
   "execution_count": 10,
   "id": "94d219e5-db4f-4471-8af8-7b3bb8f9d24c",
   "metadata": {},
   "outputs": [
    {
     "name": "stdin",
     "output_type": "stream",
     "text": [
      " huy hiu cuong\n"
     ]
    },
    {
     "name": "stdout",
     "output_type": "stream",
     "text": [
      "Hi cuong,hiu and huy\n"
     ]
    }
   ],
   "source": [
    "#W2A10\n",
    "a,b,c=map(str,input().split())\n",
    "print(f\"Hi {c},{b} and {a}\")"
   ]
  },
  {
   "cell_type": "code",
   "execution_count": 12,
   "id": "dd168383-cc5d-496c-8951-3a0d3ce1ca11",
   "metadata": {},
   "outputs": [
    {
     "name": "stdin",
     "output_type": "stream",
     "text": [
      " 15 16\n"
     ]
    },
    {
     "name": "stdout",
     "output_type": "stream",
     "text": [
      "54000.0 giay va 960.0 giay\n"
     ]
    }
   ],
   "source": [
    "#W2A11\n",
    "h,m=map(float,input().split())\n",
    "print(h*3600,\"giay va\",m*60,\"giay\")"
   ]
  },
  {
   "cell_type": "code",
   "execution_count": 14,
   "id": "de965c12-32eb-423f-9f6b-78d8cf411284",
   "metadata": {},
   "outputs": [
    {
     "name": "stdin",
     "output_type": "stream",
     "text": [
      " 10\n"
     ]
    },
    {
     "name": "stdout",
     "output_type": "stream",
     "text": [
      "so mieng dan la: 600\n"
     ]
    }
   ],
   "source": [
    "#W2A12\n",
    "n=int(input())\n",
    "print(\"so mieng dan la:\",6*n*n)"
   ]
  },
  {
   "cell_type": "code",
   "execution_count": 16,
   "id": "13855317-701f-4ec8-86ba-f7b34c49da2e",
   "metadata": {},
   "outputs": [
    {
     "name": "stdin",
     "output_type": "stream",
     "text": [
      " 2 7\n"
     ]
    },
    {
     "name": "stdout",
     "output_type": "stream",
     "text": [
      "hang don vi la 4\n"
     ]
    }
   ],
   "source": [
    "#W2A13\n",
    "a,b=map(int,input().split())\n",
    "tich=a*b\n",
    "hang_don_vi=str(tich)[-1]\n",
    "print(\"hang don vi la\",hang_don_vi)"
   ]
  },
  {
   "cell_type": "code",
   "execution_count": 17,
   "id": "8bdb44d8-c363-4034-979e-42c5ac7dcca6",
   "metadata": {},
   "outputs": [
    {
     "name": "stdin",
     "output_type": "stream",
     "text": [
      " 12 13\n"
     ]
    },
    {
     "name": "stdout",
     "output_type": "stream",
     "text": [
      "a= 13 b= 12\n"
     ]
    }
   ],
   "source": [
    "#W2A14\n",
    "a,b=map(int,input().split())\n",
    "a,b=b,a\n",
    "print(\"a=\",a,\"b=\",b)\n"
   ]
  },
  {
   "cell_type": "code",
   "execution_count": 26,
   "id": "d6dc9048-91c8-4c22-9d6f-57b54e390dc2",
   "metadata": {},
   "outputs": [
    {
     "name": "stdin",
     "output_type": "stream",
     "text": [
      " 20\n"
     ]
    },
    {
     "name": "stdout",
     "output_type": "stream",
     "text": [
      "so sao thu 20 la: 1141\n"
     ]
    }
   ],
   "source": [
    "#W2A15\n",
    "n=int(input())\n",
    "print(f\"so sao thu {n} la:\",(1 + 3 * n * (n - 1)))\n",
    "#cau nay em tham khao chat gpt"
   ]
  },
  {
   "cell_type": "code",
   "execution_count": 18,
   "id": "0802a40e-3909-49fd-a2b2-d64cdd2e5721",
   "metadata": {},
   "outputs": [
    {
     "name": "stdout",
     "output_type": "stream",
     "text": [
      "Spring\n",
      "Summer\n",
      "Autumn\n",
      "Winter\n"
     ]
    }
   ],
   "source": [
    "#W2A16\n",
    "print(\"Spring\\nSummer\\nAutumn\\nWinter\") "
   ]
  },
  {
   "cell_type": "code",
   "execution_count": 19,
   "id": "0f62277f-1a91-465c-95eb-00ef0dd567b9",
   "metadata": {},
   "outputs": [
    {
     "name": "stdout",
     "output_type": "stream",
     "text": [
      "*\n",
      "***\n",
      "*****\n"
     ]
    }
   ],
   "source": [
    "#W2A17\n",
    "print(\"*\")\n",
    "print(\"***\")\n",
    "print(\"*****\")"
   ]
  },
  {
   "cell_type": "code",
   "execution_count": 22,
   "id": "9772230b-557f-4a18-9930-577582f8cd05",
   "metadata": {},
   "outputs": [
    {
     "name": "stdout",
     "output_type": "stream",
     "text": [
      "###  #     ### ###\n",
      " #   # #    #   #\n",
      " #   ###    #   #\n",
      " #   #      #   #\n"
     ]
    }
   ],
   "source": [
    "#W2A18\n",
    "print(\"###  #     ### ###\")\n",
    "print(\" #   # #    #   #\")\n",
    "print(\" #   ###    #   #\")\n",
    "print(\" #   #      #   #\")"
   ]
  },
  {
   "cell_type": "code",
   "execution_count": 23,
   "id": "e443b141-e300-4032-b90b-2d9a73c2a395",
   "metadata": {},
   "outputs": [
    {
     "name": "stdout",
     "output_type": "stream",
     "text": [
      "Monday\n",
      "Tuesday\n",
      "Wednesday\n",
      "Thursday\n",
      "Friday\n",
      "Saturday\n",
      "Sunday\n"
     ]
    }
   ],
   "source": [
    "#W2A19\n",
    "print(\"Monday\\nTuesday\\nWednesday\\nThursday\\nFriday\\nSaturday\\nSunday\")"
   ]
  },
  {
   "cell_type": "code",
   "execution_count": 24,
   "id": "d879d4d3-90a5-40a7-9144-32808554c142",
   "metadata": {},
   "outputs": [
    {
     "name": "stdout",
     "output_type": "stream",
     "text": [
      "January\n",
      "February\n",
      "March\n",
      "April\n",
      "May\n",
      "June\n",
      "July\n",
      "August\n",
      "September\n",
      "October\n",
      "November\n",
      "December\n"
     ]
    }
   ],
   "source": [
    "#W2A20\n",
    "print(\"January\\nFebruary\\nMarch\\nApril\\nMay\\nJune\\nJuly\\nAugust\\nSeptember\\nOctober\\nNovember\\nDecember\")"
   ]
  },
  {
   "cell_type": "code",
   "execution_count": 25,
   "id": "1b44a396-720c-4d8b-a89b-bbef0f475cac",
   "metadata": {},
   "outputs": [
    {
     "name": "stdout",
     "output_type": "stream",
     "text": [
      "Hello,world\n",
      "Hello,world\n",
      "Hello,world\n",
      "Hello,world\n",
      "Hello,world\n",
      "Hello,world\n",
      "Hello,world\n",
      "Hello,world\n",
      "Hello,world\n",
      "Hello,world\n"
     ]
    }
   ],
   "source": [
    "#W2A21\n",
    "for i in range(10):\n",
    "    print(\"Hello,world\")"
   ]
  }
 ],
 "metadata": {
  "kernelspec": {
   "display_name": "Python 3 (ipykernel)",
   "language": "python",
   "name": "python3"
  },
  "language_info": {
   "codemirror_mode": {
    "name": "ipython",
    "version": 3
   },
   "file_extension": ".py",
   "mimetype": "text/x-python",
   "name": "python",
   "nbconvert_exporter": "python",
   "pygments_lexer": "ipython3",
   "version": "3.11.9"
  }
 },
 "nbformat": 4,
 "nbformat_minor": 5
}
