{
  "nbformat": 4,
  "nbformat_minor": 0,
  "metadata": {
    "colab": {
      "provenance": []
    },
    "kernelspec": {
      "name": "python3",
      "display_name": "Python 3"
    },
    "language_info": {
      "name": "python"
    }
  },
  "cells": [
    {
      "cell_type": "code",
      "execution_count": null,
      "metadata": {
        "colab": {
          "base_uri": "https://localhost:8080/"
        },
        "id": "v2wsTgbweJJH",
        "outputId": "3919797f-2c89-4f9c-ff25-fb50c4bc8b35"
      },
      "outputs": [
        {
          "output_type": "stream",
          "name": "stdout",
          "text": [
            "nhap n (n<1000) :3\n",
            "6\n"
          ]
        }
      ],
      "source": [
        "#W4A1\n",
        "n=int(input(\"nhap n (n<1000) :\"))\n",
        "sum=0\n",
        "for i in range (1,n+1):\n",
        "  sum+=i\n",
        "print(sum)\n",
        "\n",
        "\n"
      ]
    },
    {
      "cell_type": "code",
      "source": [
        "#W4A2\n",
        "while True:\n",
        "  try:\n",
        "    n=int(input())\n",
        "    if n<=1:\n",
        "      print(\"khong la so nguyen to\")\n",
        "    else:\n",
        "      for i in range (2,n):\n",
        "        if n%i==0:\n",
        "          print(\"khong la so nguyen to\")\n",
        "          break\n",
        "      else:\n",
        "        print(\"la so nguyen to\")\n",
        "  except ValueError:\n",
        "    print(\"nhap lai\")\n",
        "    break\n",
        "\n",
        "\n",
        "\n",
        "\n",
        "\n",
        "\n",
        "\n",
        "\n"
      ],
      "metadata": {
        "colab": {
          "base_uri": "https://localhost:8080/"
        },
        "id": "Q5EoSs5Se7C9",
        "outputId": "3ccb4661-206e-4224-c942-3b6251a0144d"
      },
      "execution_count": null,
      "outputs": [
        {
          "output_type": "stream",
          "name": "stdout",
          "text": [
            "2\n",
            "la so nguyen to\n",
            "4\n",
            "khong la so nguyen to\n",
            "0\n",
            "khong la so nguyen to\n",
            "-1\n",
            "khong la so nguyen to\n",
            "h\n",
            "nhap lai\n"
          ]
        }
      ]
    },
    {
      "cell_type": "code",
      "source": [
        "#W4A3\n",
        "n=int(input(\"nhap n 0<n<100 \"))\n",
        "gt=1\n",
        "for i in range(1,n+1):\n",
        "  gt*=i\n",
        "print(gt)\n"
      ],
      "metadata": {
        "colab": {
          "base_uri": "https://localhost:8080/"
        },
        "id": "a6rAtZx27ooF",
        "outputId": "ded58dba-0ea1-4fcf-b0c5-b4373ef1e876"
      },
      "execution_count": null,
      "outputs": [
        {
          "output_type": "stream",
          "name": "stdout",
          "text": [
            "nhap n 0<n<100 6\n",
            "720\n"
          ]
        }
      ]
    },
    {
      "cell_type": "code",
      "source": [
        "#W4A4\n",
        "n=int(input())\n",
        "if n<0:\n",
        "  print(-1*n)\n",
        "else:\n",
        "  print(n)"
      ],
      "metadata": {
        "colab": {
          "base_uri": "https://localhost:8080/"
        },
        "id": "iemZAjduSlHB",
        "outputId": "2bb14c52-8edc-47cc-a898-6bbfbbdbe482"
      },
      "execution_count": 21,
      "outputs": [
        {
          "output_type": "stream",
          "name": "stdout",
          "text": [
            "-20\n",
            "20\n"
          ]
        }
      ]
    },
    {
      "cell_type": "code",
      "source": [
        "#W4A5\n",
        "n=int(input())\n",
        "flag=False\n",
        "for i in range(n):\n",
        "  a=int(input())\n",
        "  if a==42:\n",
        "    flag=True\n",
        "    break\n",
        "if flag:\n",
        "  print(\"ive found the meaning of life\")\n",
        "else:\n",
        "  print(\"its a joke\")\n"
      ],
      "metadata": {
        "id": "rzdX9kEzCvTD",
        "colab": {
          "base_uri": "https://localhost:8080/"
        },
        "outputId": "2a625ce9-ecf9-4d7c-93f8-90383532ab09"
      },
      "execution_count": 3,
      "outputs": [
        {
          "output_type": "stream",
          "name": "stdout",
          "text": [
            "3\n",
            "1\n",
            "2\n",
            "42\n",
            "ive found the meaning of life\n"
          ]
        }
      ]
    },
    {
      "cell_type": "code",
      "source": [
        "#W4A6\n",
        "try:\n",
        "    a = int(input(\"nhap a\"))\n",
        "    b = int(input(\"nhap b\"))\n",
        "\n",
        "    if a < 1 or b < 1 or a > b:\n",
        "        print(\"nhap lai\")\n",
        "    else:\n",
        "        sum = 0\n",
        "        for num in range(a, b + 1):\n",
        "            if num > 1:\n",
        "                flag = True\n",
        "                for i in range(2, num):\n",
        "                    if num % i == 0:\n",
        "                        flag = False\n",
        "                        break\n",
        "\n",
        "                if flag:\n",
        "                    sum += num\n",
        "\n",
        "        print(sum)\n",
        "\n",
        "except ValueError:\n",
        "    print(\"nhap lai\")"
      ],
      "metadata": {
        "colab": {
          "base_uri": "https://localhost:8080/"
        },
        "id": "3k58j9HXZXfZ",
        "outputId": "a2b80438-6bd9-4559-8402-9f25b9fc235b"
      },
      "execution_count": 4,
      "outputs": [
        {
          "output_type": "stream",
          "name": "stdout",
          "text": [
            "nhap a3\n",
            "nhap b5\n",
            "8\n"
          ]
        }
      ]
    },
    {
      "cell_type": "code",
      "source": [
        "#W4A7\n",
        "n=int(input(\"nhap n ( n>=2) \"))\n",
        "so=0\n",
        "for i in range (2,n+1):\n",
        "  if n%i==0:\n",
        "    flag=True\n",
        "    for v in range (2,i):\n",
        "      if i%v==0:\n",
        "        flag=False\n",
        "        break\n",
        "    if flag==True:\n",
        "      so=i\n",
        "print(so)\n",
        "\n",
        "\n"
      ],
      "metadata": {
        "colab": {
          "base_uri": "https://localhost:8080/"
        },
        "id": "zjMXmMS0bUba",
        "outputId": "cb6f145b-8136-46ce-9c92-cbc291d5a3ee"
      },
      "execution_count": 9,
      "outputs": [
        {
          "output_type": "stream",
          "name": "stdout",
          "text": [
            "nhap n ( n>=2) 30\n",
            "5\n"
          ]
        }
      ]
    },
    {
      "cell_type": "code",
      "source": [
        "#W4A8\n",
        "try:\n",
        "    n = int(input(\"nhap n\"))\n",
        "except ValueError:\n",
        "    print(\"nhap lai\")\n",
        "    exit()\n",
        "if n <= 0:\n",
        "    print(\"nhap lai\")\n",
        "    exit()\n",
        "buoc = 0\n",
        "so_hien_tai = n\n",
        "while True:\n",
        "    s_hien_tai = str(so_hien_tai)\n",
        "    s_dao_nguoc = s_hien_tai[::-1]\n",
        "    if s_hien_tai == s_dao_nguoc:\n",
        "        break\n",
        "    so_dao_nguoc = int(s_dao_nguoc)\n",
        "    so_hien_tai = so_hien_tai + so_dao_nguoc\n",
        "    buoc += 1\n",
        "print(f\"so buoc {buoc}\")\n",
        "print(f\"so doi xung la {so_hien_tai}\")"
      ],
      "metadata": {
        "colab": {
          "base_uri": "https://localhost:8080/"
        },
        "id": "lrHhVAnHfq7L",
        "outputId": "4cd9c861-520d-4290-e10b-5a9e7d04d1c4"
      },
      "execution_count": 16,
      "outputs": [
        {
          "output_type": "stream",
          "name": "stdout",
          "text": [
            "nhap n20\n",
            "so buoc 1\n",
            "so doi xung la 22\n"
          ]
        }
      ]
    },
    {
      "cell_type": "code",
      "source": [
        "#W4A9\n",
        "try:\n",
        "    n = int(input(\"nhap n nguyen duong \"))\n",
        "\n",
        "    if n <= 0:\n",
        "        print(\"nhap lai\")\n",
        "    else:\n",
        "        lst= []\n",
        "        k = 1\n",
        "\n",
        "        while k * k <= n:\n",
        "            a = k * k\n",
        "            at = str(a)\n",
        "            flag= True\n",
        "            for i in range(len(at)):\n",
        "                for j in range(i + 1, len(at)):\n",
        "                    if at[i] == at[j]:\n",
        "                        flag = False\n",
        "                        break\n",
        "\n",
        "                if not flag:\n",
        "                    break\n",
        "\n",
        "            if flag:\n",
        "                lst.append(a)\n",
        "\n",
        "            k += 1\n",
        "\n",
        "        if lst:\n",
        "            print(*lst)\n",
        "        else:\n",
        "            print(\"(no number)\")\n",
        "\n",
        "except ValueError:\n",
        "    print(\"nhap lai\")"
      ],
      "metadata": {
        "colab": {
          "base_uri": "https://localhost:8080/"
        },
        "id": "ewUwkMt49P9p",
        "outputId": "ca7e8dfd-d93c-41e6-912f-3f7e86aeb5a1"
      },
      "execution_count": 2,
      "outputs": [
        {
          "output_type": "stream",
          "name": "stdout",
          "text": [
            "nhap n nguyen duong 25\n",
            "1 4 9 16 25\n"
          ]
        }
      ]
    },
    {
      "cell_type": "code",
      "source": [
        "#W4A10\n",
        "try:\n",
        "    n = int(input(\"nhap n nguyen duong \"))\n",
        "except ValueError:\n",
        "    print(\"nhap lai\")\n",
        "    exit()\n",
        "if n <= 0:\n",
        "    print(\"nhap lai\")\n",
        "    exit()\n",
        "ddln = 0\n",
        "best_x = 0\n",
        "for x in range(1, n + 1):\n",
        "    sht = x\n",
        "    ddht = 1\n",
        "    while sht != 1:\n",
        "        if sht % 2 == 0:\n",
        "            sht = sht // 2\n",
        "        else:\n",
        "            sht = 3 *sht + 1\n",
        "        ddht+= 1\n",
        "    if ddht > ddln:\n",
        "        ddln = ddht\n",
        "        best_x = x\n",
        "print(f\"{best_x} {ddln}\")"
      ],
      "metadata": {
        "colab": {
          "base_uri": "https://localhost:8080/"
        },
        "id": "mEaBtlrpGwM0",
        "outputId": "5eb0b7b8-951b-451d-d546-525ac88ba9b2"
      },
      "execution_count": 18,
      "outputs": [
        {
          "output_type": "stream",
          "name": "stdout",
          "text": [
            "nhap n nguyen duong 30\n",
            "27 112\n"
          ]
        }
      ]
    },
    {
      "cell_type": "code",
      "source": [
        "#W4A11\n",
        "n=int(input())\n",
        "lst=[]\n",
        "for i in range (1,n+1):\n",
        "  if n%i==0 and i%2==0:\n",
        "    lst.append(i)\n",
        "print(len(lst))\n"
      ],
      "metadata": {
        "colab": {
          "base_uri": "https://localhost:8080/"
        },
        "id": "Oglw5m7mG7Uc",
        "outputId": "fe2bf0d7-5f86-47c4-958b-b0e6d0144d8e"
      },
      "execution_count": 6,
      "outputs": [
        {
          "output_type": "stream",
          "name": "stdout",
          "text": [
            "150\n",
            "6\n"
          ]
        }
      ]
    },
    {
      "cell_type": "code",
      "source": [
        "#W4A12\n",
        "a=float(input(\"so tien gui vao \"))\n",
        "b=int(input(\"rut ra sau ... thang \"))\n",
        "s=a*(1+(0.7)/100)**b\n",
        "print(s)"
      ],
      "metadata": {
        "colab": {
          "base_uri": "https://localhost:8080/"
        },
        "id": "xcQ0sy-VIRgD",
        "outputId": "d152f887-fe86-4adb-81d0-30e4b016e94e"
      },
      "execution_count": 8,
      "outputs": [
        {
          "output_type": "stream",
          "name": "stdout",
          "text": [
            "so tien gui vao 3200000\n",
            "rut ra sau ... thang 3\n",
            "3267671.4975999994\n"
          ]
        }
      ]
    },
    {
      "cell_type": "code",
      "source": [
        "#W4A13\n",
        "a=int(input())\n",
        "b=int(input())\n",
        "lsta=[]\n",
        "lstb=[]\n",
        "suma=0\n",
        "sumb=0\n",
        "for i in range(1,a+1):\n",
        "  if a%i==0:\n",
        "    lsta.append(i)\n",
        "for v in range(1,b+1):\n",
        "  if b%v==0:\n",
        "    lstb.append(v)\n",
        "for x in lsta:\n",
        "  suma+=x\n",
        "for y in lstb:\n",
        "  sumb+=y\n",
        "if suma-a==b and sumb-b==a:\n",
        "  print(\"yes\")\n",
        "else:\n",
        "  print(\"no\")\n"
      ],
      "metadata": {
        "colab": {
          "base_uri": "https://localhost:8080/"
        },
        "id": "PUduLuUvJfol",
        "outputId": "25241abf-c026-414f-9501-f5f4d034f149"
      },
      "execution_count": 10,
      "outputs": [
        {
          "output_type": "stream",
          "name": "stdout",
          "text": [
            "220\n",
            "284\n",
            "yes\n"
          ]
        }
      ]
    },
    {
      "cell_type": "code",
      "source": [
        "#W4A14\n",
        "m = int(input())\n",
        "n = int(input())\n",
        "if m < n:\n",
        "    gioi_han = m\n",
        "else:\n",
        "    gioi_han = n\n",
        "ucln = 1\n",
        "for i in range(1, gioi_han + 1):\n",
        "    if m % i == 0 and n % i == 0:\n",
        "        ucln = i\n",
        "print(ucln)"
      ],
      "metadata": {
        "colab": {
          "base_uri": "https://localhost:8080/"
        },
        "id": "t63VaBArLdF9",
        "outputId": "35621e89-4786-4588-f962-bd754dd04d10"
      },
      "execution_count": 11,
      "outputs": [
        {
          "output_type": "stream",
          "name": "stdout",
          "text": [
            "20\n",
            "15\n",
            "5\n"
          ]
        }
      ]
    },
    {
      "cell_type": "code",
      "source": [
        "#W4A15\n",
        "n=int(input(\"tong chan la \"))\n",
        "v=int(input(\"tong con la \"))\n",
        "try:\n",
        "  y=(n-2*v)/2\n",
        "  x=v-y\n",
        "  print(\"so ga va cho lan luot la\",x,y)\n",
        "except ValueError:\n",
        "  print(\"invalid\")\n",
        "\n"
      ],
      "metadata": {
        "colab": {
          "base_uri": "https://localhost:8080/"
        },
        "id": "CSue4ni7M9Eu",
        "outputId": "bff39af4-620f-4889-8267-7a0701fe5c40"
      },
      "execution_count": 14,
      "outputs": [
        {
          "output_type": "stream",
          "name": "stdout",
          "text": [
            "tong chan la 100\n",
            "tong con la 36\n",
            "so ga va cho lan luot la 22.0 14.0\n"
          ]
        }
      ]
    }
  ]
}